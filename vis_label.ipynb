{
 "cells": [
  {
   "cell_type": "code",
   "execution_count": 38,
   "metadata": {},
   "outputs": [],
   "source": [
    "import os\n",
    "import numpy as np\n",
    "\n",
    "from evadd.pc_utils import PC\n",
    "from evadd import io_utils as IO"
   ]
  },
  {
   "cell_type": "code",
   "execution_count": 39,
   "metadata": {},
   "outputs": [],
   "source": [
    "DATA_ROOT=\"/media/work/2t/a4d/argo2_parsed/train012/dc9c2d63-083f-32c3-90ff-943ca823a245.0.157\"\n",
    "LABEL_DIR=f\"{DATA_ROOT}/lidar_mos/center_lidar/dynamic-point-removal\""
   ]
  },
  {
   "cell_type": "code",
   "execution_count": 40,
   "metadata": {},
   "outputs": [
    {
     "data": {
      "text/plain": [
       "PointCloud with 91435 points."
      ]
     },
     "execution_count": 40,
     "metadata": {},
     "output_type": "execute_result"
    }
   ],
   "source": [
    "frame_id = '000122'\n",
    "label_arr = np.load(f'{LABEL_DIR}/{frame_id}.npy')\n",
    "df, pcd=PC.read_to_df(f'{DATA_ROOT}/center_lidar/data/{frame_id}.pcd')\n",
    "pts = df[['x', 'y', 'z']].to_numpy()\n",
    "PC.show_pcs([pts[label_arr == 9], pts[label_arr == 251]])"
   ]
  },
  {
   "cell_type": "code",
   "execution_count": null,
   "metadata": {},
   "outputs": [],
   "source": []
  }
 ],
 "metadata": {
  "kernelspec": {
   "display_name": "fangyuan",
   "language": "python",
   "name": "python3"
  },
  "language_info": {
   "codemirror_mode": {
    "name": "ipython",
    "version": 3
   },
   "file_extension": ".py",
   "mimetype": "text/x-python",
   "name": "python",
   "nbconvert_exporter": "python",
   "pygments_lexer": "ipython3",
   "version": "3.8.11"
  },
  "orig_nbformat": 4
 },
 "nbformat": 4,
 "nbformat_minor": 2
}
